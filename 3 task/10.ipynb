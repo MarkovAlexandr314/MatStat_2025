{
 "cells": [
  {
   "cell_type": "code",
   "execution_count": 2,
   "metadata": {},
   "outputs": [],
   "source": [
    "import numpy as np\n",
    "from scipy.stats import chi2, poisson, kstest, norm"
   ]
  },
  {
   "cell_type": "markdown",
   "metadata": {},
   "source": [
    "### Пункт а)"
   ]
  },
  {
   "cell_type": "code",
   "execution_count": 65,
   "metadata": {},
   "outputs": [
    {
     "name": "stdout",
     "output_type": "stream",
     "text": [
      "Pirson: delta = 16.4\n",
      "p-value = 0.0589\n",
      "Kolmogorov: delta = 1.4333\n",
      "p-value = 0.0328\n"
     ]
    }
   ],
   "source": [
    "#  Пункт а)\n",
    "data = np.array([5, 8, 6, 12, 14, 18, 11, 6, 13, 7])\n",
    "n = data.sum()\n",
    "\n",
    "# a) Пирсон\n",
    "M = np.array([5, 8, 6, 12, 14, 18, 11, 6, 13, 7])\n",
    "NP = np.array([10] * 10)\n",
    "print(f'Pirson: delta = {np.sum((NP - M)**2/NP)}')\n",
    "print(f'p-value = {0.0589}')\n",
    "\n",
    "# a) Колмогоров\n",
    "sample = np.repeat(np.arange(10), data)\n",
    "ks_stat, p_value_ks = kstest(sample, 'uniform', args=(0, 9))\n",
    "\n",
    "print(f\"Kolmogorov: delta = {n**0.5 * ks_stat:.4f}\")\n",
    "print(f'p-value = {0.0328}')"
   ]
  },
  {
   "cell_type": "markdown",
   "metadata": {},
   "source": [
    "### Пункт б)"
   ]
  },
  {
   "cell_type": "code",
   "execution_count": 66,
   "metadata": {},
   "outputs": [
    {
     "name": "stdout",
     "output_type": "stream",
     "text": [
      "Максимум находится в точке (mean: 4.770, std: 2.518)\n"
     ]
    }
   ],
   "source": [
    "import numpy as np\n",
    "from scipy.stats import norm\n",
    "from functools import reduce\n",
    "import operator\n",
    "from scipy.optimize import minimize\n",
    "#  Ищем максимум для ОМПГ\n",
    "def normal_distribution_integral(pair, mu, sigma):\n",
    "    a, b = pair[0], pair[1]\n",
    "    if sigma <= 0:\n",
    "        raise ValueError(\"sigma должно быть > 0\")\n",
    "    return norm.cdf(b, loc=mu, scale=sigma) - norm.cdf(a, loc=mu, scale=sigma)\n",
    "\n",
    "def product_of_integrals(degres, intervals, mu, sigma):\n",
    "    # Вычисляем вероятности для каждого интервала и возводим в степень\n",
    "    probabilities = [normal_distribution_integral(intervals[i], mu, sigma) ** degres[i] for i in range(len(intervals))]\n",
    "    # Перемножаем все вероятности\n",
    "    return reduce(operator.mul, probabilities, 1.0)\n",
    "\n",
    "def minus_L(params):\n",
    "    mu, sigma = params\n",
    "    return -product_of_integrals(degres, intervals, mu, sigma)\n",
    "intervals = [\n",
    "    [-np.inf, 1], [1, 2], [2, 3], [3, 4], [4, 5],\n",
    "    [5, 6], [6, 7], [7, 8], [8, 9], [9, np.inf]\n",
    "]\n",
    "degres =  np.array([5, 8, 6, 12, 14, 18, 11, 6, 13, 7])\n",
    "\n",
    "# Начальное приближение\n",
    "mean_sample = np.mean(sample)\n",
    "std = np.std(sample, ddof=1)\n",
    "initial_guess = [mean_sample, std]\n",
    "\n",
    "# Поиск минимума отрицательной функции (эквивалентно поиску максимума)\n",
    "result = minimize(minus_L, initial_guess, method='BFGS')\n",
    "\n",
    "# Извлекаем результат\n",
    "max_point = result.x\n",
    "max_value = -result.fun  # Возвращаем исходное значение\n",
    "\n",
    "print(f\"Максимум находится в точке (mean: {max_point[0]:.3f}, std: {max_point[1]:.3f})\")"
   ]
  },
  {
   "cell_type": "code",
   "execution_count": 71,
   "metadata": {},
   "outputs": [
    {
     "name": "stdout",
     "output_type": "stream",
     "text": [
      "delta for Chi-square: 16.87172399691232\n",
      "p-value: 0.01825\n"
     ]
    },
    {
     "data": {
      "text/html": [
       "<div>\n",
       "<style scoped>\n",
       "    .dataframe tbody tr th:only-of-type {\n",
       "        vertical-align: middle;\n",
       "    }\n",
       "\n",
       "    .dataframe tbody tr th {\n",
       "        vertical-align: top;\n",
       "    }\n",
       "\n",
       "    .dataframe thead th {\n",
       "        text-align: right;\n",
       "    }\n",
       "</style>\n",
       "<table border=\"1\" class=\"dataframe\">\n",
       "  <thead>\n",
       "    <tr style=\"text-align: right;\">\n",
       "      <th></th>\n",
       "      <th>beg</th>\n",
       "      <th>end</th>\n",
       "      <th>n*p</th>\n",
       "    </tr>\n",
       "  </thead>\n",
       "  <tbody>\n",
       "    <tr>\n",
       "      <th>0</th>\n",
       "      <td>-inf</td>\n",
       "      <td>1.0</td>\n",
       "      <td>6.716801</td>\n",
       "    </tr>\n",
       "    <tr>\n",
       "      <th>1</th>\n",
       "      <td>1.0</td>\n",
       "      <td>2.0</td>\n",
       "      <td>6.848075</td>\n",
       "    </tr>\n",
       "    <tr>\n",
       "      <th>2</th>\n",
       "      <td>2.0</td>\n",
       "      <td>3.0</td>\n",
       "      <td>10.539817</td>\n",
       "    </tr>\n",
       "    <tr>\n",
       "      <th>3</th>\n",
       "      <td>3.0</td>\n",
       "      <td>4.0</td>\n",
       "      <td>13.883220</td>\n",
       "    </tr>\n",
       "    <tr>\n",
       "      <th>4</th>\n",
       "      <td>4.0</td>\n",
       "      <td>5.0</td>\n",
       "      <td>15.651058</td>\n",
       "    </tr>\n",
       "    <tr>\n",
       "      <th>5</th>\n",
       "      <td>5.0</td>\n",
       "      <td>6.0</td>\n",
       "      <td>15.100638</td>\n",
       "    </tr>\n",
       "    <tr>\n",
       "      <th>6</th>\n",
       "      <td>6.0</td>\n",
       "      <td>7.0</td>\n",
       "      <td>12.469369</td>\n",
       "    </tr>\n",
       "    <tr>\n",
       "      <th>7</th>\n",
       "      <td>7.0</td>\n",
       "      <td>8.0</td>\n",
       "      <td>8.812285</td>\n",
       "    </tr>\n",
       "    <tr>\n",
       "      <th>8</th>\n",
       "      <td>8.0</td>\n",
       "      <td>9.0</td>\n",
       "      <td>5.329944</td>\n",
       "    </tr>\n",
       "    <tr>\n",
       "      <th>9</th>\n",
       "      <td>9.0</td>\n",
       "      <td>inf</td>\n",
       "      <td>4.648793</td>\n",
       "    </tr>\n",
       "  </tbody>\n",
       "</table>\n",
       "</div>"
      ],
      "text/plain": [
       "   beg  end        n*p\n",
       "0 -inf  1.0   6.716801\n",
       "1  1.0  2.0   6.848075\n",
       "2  2.0  3.0  10.539817\n",
       "3  3.0  4.0  13.883220\n",
       "4  4.0  5.0  15.651058\n",
       "5  5.0  6.0  15.100638\n",
       "6  6.0  7.0  12.469369\n",
       "7  7.0  8.0   8.812285\n",
       "8  8.0  9.0   5.329944\n",
       "9  9.0  inf   4.648793"
      ]
     },
     "execution_count": 71,
     "metadata": {},
     "output_type": "execute_result"
    }
   ],
   "source": [
    "import pandas as pd\n",
    "\n",
    "def normal_distribution_integral(pair, mu, sigma):\n",
    "    a, b = pair[0], pair[1]\n",
    "    if sigma <= 0:\n",
    "        raise ValueError(\"sigma должно быть > 0\")\n",
    "    return norm.cdf(b, loc=mu, scale=sigma) - norm.cdf(a, loc=mu, scale=sigma)\n",
    "\n",
    "new_interval = []\n",
    "\n",
    "npi = []\n",
    "\n",
    "for interval in intervals:\n",
    "    new_interval.append([interval[0], interval[1], normal_distribution_integral(interval, 4.770, 2.518) * 100])\n",
    "    npi.append(normal_distribution_integral(interval, 4.770, 2.518) * 100)\n",
    "npi = np.array(npi)\n",
    "df = pd.DataFrame(new_interval, columns = ['beg', 'end', 'n*p'])\n",
    "print(f'delta for Chi-square: {np.sum((npi - data) ** 2 / npi)}')\n",
    "print(f'p-value: {0.01825}')\n",
    "df"
   ]
  },
  {
   "cell_type": "code",
   "execution_count": 108,
   "metadata": {},
   "outputs": [
    {
     "name": "stdout",
     "output_type": "stream",
     "text": [
      "[0 0 0 0 0 1 1 1 1 1 1 1 1 2 2 2 2 2 2 3 3 3 3 3 3 3 3 3 3 3 3 4 4 4 4 4 4\n",
      " 4 4 4 4 4 4 4 4 5 5 5 5 5 5 5 5 5 5 5 5 5 5 5 5 5 5 6 6 6 6 6 6 6 6 6 6 6\n",
      " 7 7 7 7 7 7 8 8 8 8 8 8 8 8 8 8 8 8 8 9 9 9 9 9 9 9]\n",
      "delta_wave: 1.0021263220748111\n"
     ]
    },
    {
     "data": {
      "text/plain": [
       "0.0153"
      ]
     },
     "execution_count": 108,
     "metadata": {},
     "output_type": "execute_result"
    }
   ],
   "source": [
    "#  Коломгоров\n",
    "#  Бутстрап\n",
    "n_iterations = 50000\n",
    "\n",
    "bootstrap_delta  = []\n",
    "mean = 4.77\n",
    "sigma = 2.518\n",
    "\n",
    "sample = np.repeat(np.arange(10), data)\n",
    "N = len(sample)\n",
    "ks_stat, p_value_ks =  kstest(sample, 'norm', args=(mean, sigma))\n",
    "\n",
    "delta_wave = N ** 0.5 * ks_stat\n",
    "print(f'delta_wave: {delta_wave}')\n",
    "\n",
    "for i in range(n_iterations):\n",
    "    new_sample = np.random.normal(mean, sigma, N)\n",
    "    bootstrap_mean = np.mean(new_sample)\n",
    "    bootstrap_std_dev = np.std(new_sample) * N /(N - 1)\n",
    "    ks_stat, p_value_ks = kstest(new_sample, 'norm', args=(bootstrap_mean, bootstrap_std_dev))\n",
    "    bootstrap_delta.append(N ** 0.5 * ks_stat)\n",
    "\n",
    "bootstrap_delta = np.array(bootstrap_delta)\n",
    "p_val = len(bootstrap_delta[bootstrap_delta >= delta_wave]) / n_iterations\n",
    "p_val"
   ]
  }
 ],
 "metadata": {
  "kernelspec": {
   "display_name": "Python 3",
   "language": "python",
   "name": "python3"
  },
  "language_info": {
   "codemirror_mode": {
    "name": "ipython",
    "version": 3
   },
   "file_extension": ".py",
   "mimetype": "text/x-python",
   "name": "python",
   "nbconvert_exporter": "python",
   "pygments_lexer": "ipython3",
   "version": "3.13.2"
  },
  "orig_nbformat": 4
 },
 "nbformat": 4,
 "nbformat_minor": 2
}
