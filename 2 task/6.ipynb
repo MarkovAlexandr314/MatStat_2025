{
 "cells": [
  {
   "cell_type": "code",
   "execution_count": 1,
   "metadata": {},
   "outputs": [],
   "source": [
    "import numpy as np\n"
   ]
  },
  {
   "cell_type": "code",
   "execution_count": 2,
   "metadata": {},
   "outputs": [],
   "source": [
    "np.random.seed(0)\n",
    "theta_true = 2\n",
    "n = 100\n",
    "sample = np.random.pareto(theta_true - 1, n) + 1  # Сдвиг, чтобы x >= 1\n",
    "\n",
    "t_1 = -1.96\n",
    "t_2 = 1.96\n"
   ]
  },
  {
   "cell_type": "code",
   "execution_count": 3,
   "metadata": {},
   "outputs": [
    {
     "name": "stdout",
     "output_type": "stream",
     "text": [
      "Доверительный интервал для медианы: (1.6544197877493843, 2.12626720812806)\n",
      "Длина интервала: 0.4718474203786758\n"
     ]
    }
   ],
   "source": [
    "#  d)\n",
    "#  Интервал для медианы\n",
    "t_wave = 1 + n / np.sum([np.log(x) for x in sample])\n",
    "\n",
    "def g(theta):\n",
    "    return 2 ** (1 / (theta - 1))\n",
    "\n",
    "h1 = g(t_wave) - (t_2 * np.log(2) * g(t_wave)) / ((t_wave - 1) * np.sqrt(n)) \n",
    "h2 = g(t_wave) - (t_1 * np.log(2) * g(t_wave)) / ((t_wave - 1) * np.sqrt(n))\n",
    "length_med = h2 - h1\n",
    "print(f'Доверительный интервал для медианы: ({h1}, {h2})')\n",
    "print(f'Длина интервала: {length_med}')"
   ]
  },
  {
   "cell_type": "code",
   "execution_count": 4,
   "metadata": {},
   "outputs": [
    {
     "name": "stdout",
     "output_type": "stream",
     "text": [
      "Доверительный интервал для тета: (1.8751988121824592, 2.3019126609082354)\n",
      "Длина интервала: 0.4267138487257762\n"
     ]
    }
   ],
   "source": [
    "#  Для тета\n",
    "t_wave = 1 + 1 / np.mean([np.log(x) for x in sample])\n",
    "\n",
    "h1 = t_wave - ((t_wave - 1) * t_2) / np.sqrt(n)\n",
    "h2 = t_wave -  ((t_wave - 1) * t_1) / np.sqrt(n)\n",
    "length_theta = h2 - h1\n",
    "print(f'Доверительный интервал для тета: ({h1}, {h2})')\n",
    "print(f'Длина интервала: {h2 - h1}')"
   ]
  },
  {
   "cell_type": "code",
   "execution_count": 5,
   "metadata": {},
   "outputs": [],
   "source": [
    "theta_mle = 1 + n / np.sum(np.log(sample))"
   ]
  },
  {
   "cell_type": "code",
   "execution_count": 6,
   "metadata": {},
   "outputs": [
    {
     "name": "stdout",
     "output_type": "stream",
     "text": [
      "Параметрический бутстрап(для 0,95): [1.90285323 2.3398273 ]\n",
      "Длина:  0.4369740710970178\n"
     ]
    }
   ],
   "source": [
    "# e)  Параметрический бутстрап\n",
    "B = 50000  # Количество бутстрап-выборок\n",
    "\n",
    "parametric_bootstrap_thetas = []\n",
    "\n",
    "for _ in range(B):\n",
    "    parametric_sample = np.random.pareto(theta_mle - 1, n) + 1\n",
    "    parametric_theta = 1 + n / np.sum(np.log(parametric_sample))\n",
    "    parametric_bootstrap_thetas.append(parametric_theta)\n",
    "\n",
    "parametric_ci_theta = np.percentile(parametric_bootstrap_thetas, [2.5, 97.5])\n",
    "length_parametric = parametric_ci_theta[1] - parametric_ci_theta[0]\n",
    "\n",
    "print(f\"Параметрический бутстрап(для 0,95): {parametric_ci_theta}\")\n",
    "print(\"Длина: \", length_parametric)"
   ]
  },
  {
   "cell_type": "code",
   "execution_count": 7,
   "metadata": {},
   "outputs": [
    {
     "name": "stdout",
     "output_type": "stream",
     "text": [
      "Непараметрический бутстрап(для 0,95): [1.89948233 2.34444486]\n",
      "Длина:  0.4369740710970178\n"
     ]
    }
   ],
   "source": [
    "# Непараметрический бутстрап\n",
    "\n",
    "nonparametric_bootstrap_thetas = []\n",
    "\n",
    "for _ in range(B):\n",
    "    nonparametric_sample = np.random.choice(sample, n, replace=True)\n",
    "    nonparametric_theta = 1 + n / np.sum(np.log(nonparametric_sample))\n",
    "    nonparametric_bootstrap_thetas.append(nonparametric_theta)\n",
    "\n",
    "nonparametric_ci_theta = np.percentile(nonparametric_bootstrap_thetas, [2.5, 97.5])\n",
    "length_nonparametric = parametric_ci_theta[1] - parametric_ci_theta[0]\n",
    "\n",
    "print(f\"Непараметрический бутстрап(для 0,95): {nonparametric_ci_theta}\")\n",
    "print(\"Длина: \", length_nonparametric)"
   ]
  },
  {
   "cell_type": "code",
   "execution_count": 8,
   "metadata": {},
   "outputs": [
    {
     "data": {
      "text/html": [
       "<div>\n",
       "<style scoped>\n",
       "    .dataframe tbody tr th:only-of-type {\n",
       "        vertical-align: middle;\n",
       "    }\n",
       "\n",
       "    .dataframe tbody tr th {\n",
       "        vertical-align: top;\n",
       "    }\n",
       "\n",
       "    .dataframe thead th {\n",
       "        text-align: right;\n",
       "    }\n",
       "</style>\n",
       "<table border=\"1\" class=\"dataframe\">\n",
       "  <thead>\n",
       "    <tr style=\"text-align: right;\">\n",
       "      <th></th>\n",
       "      <th>Длина</th>\n",
       "    </tr>\n",
       "  </thead>\n",
       "  <tbody>\n",
       "    <tr>\n",
       "      <th>Параметрический бутстрап</th>\n",
       "      <td>0.436974</td>\n",
       "    </tr>\n",
       "    <tr>\n",
       "      <th>Непараметрический бутстрап</th>\n",
       "      <td>0.436974</td>\n",
       "    </tr>\n",
       "    <tr>\n",
       "      <th>для медианы</th>\n",
       "      <td>0.471847</td>\n",
       "    </tr>\n",
       "    <tr>\n",
       "      <th>Для тета</th>\n",
       "      <td>0.426714</td>\n",
       "    </tr>\n",
       "  </tbody>\n",
       "</table>\n",
       "</div>"
      ],
      "text/plain": [
       "                               Длина\n",
       "Параметрический бутстрап    0.436974\n",
       "Непараметрический бутстрап  0.436974\n",
       "для медианы                 0.471847\n",
       "Для тета                    0.426714"
      ]
     },
     "execution_count": 8,
     "metadata": {},
     "output_type": "execute_result"
    }
   ],
   "source": [
    "#  f)\n",
    "import pandas as pd\n",
    "\n",
    "data = {\"Параметрический бутстрап\": length_parametric, \"Непараметрический бутстрап\": length_nonparametric,\"для медианы\": length_med,\"Для тета\": length_theta}\n",
    "df = pd.DataFrame(data, index=[\"Длина\"]).T\n",
    "\n",
    "df"
   ]
  }
 ],
 "metadata": {
  "kernelspec": {
   "display_name": "Python 3",
   "language": "python",
   "name": "python3"
  },
  "language_info": {
   "codemirror_mode": {
    "name": "ipython",
    "version": 3
   },
   "file_extension": ".py",
   "mimetype": "text/x-python",
   "name": "python",
   "nbconvert_exporter": "python",
   "pygments_lexer": "ipython3",
   "version": "3.13.2"
  },
  "orig_nbformat": 4
 },
 "nbformat": 4,
 "nbformat_minor": 2
}
