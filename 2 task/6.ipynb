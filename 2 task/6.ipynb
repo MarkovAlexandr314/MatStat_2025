{
 "cells": [
  {
   "cell_type": "code",
   "execution_count": 1,
   "metadata": {},
   "outputs": [],
   "source": [
    "import numpy as np\n"
   ]
  },
  {
   "cell_type": "code",
   "execution_count": 2,
   "metadata": {},
   "outputs": [],
   "source": [
    "np.random.seed(0)\n",
    "theta_true = 2\n",
    "n = 100\n",
    "sample = np.random.pareto(theta_true - 1, n) + 1  # Сдвиг, чтобы x >= 1"
   ]
  },
  {
   "cell_type": "code",
   "execution_count": 3,
   "metadata": {},
   "outputs": [],
   "source": [
    "theta_mle = 1 + n / np.sum(np.log(sample))"
   ]
  },
  {
   "cell_type": "code",
   "execution_count": 4,
   "metadata": {},
   "outputs": [
    {
     "name": "stdout",
     "output_type": "stream",
     "text": [
      "Параметрический бутстрап(для 0,95): [1.91600988 2.32707666]\n",
      "Длина:  0.4110667835179487\n"
     ]
    }
   ],
   "source": [
    "# e)  Параметрический бутстрап\n",
    "B = 1000  # Количество бутстрап-выборок\n",
    "\n",
    "parametric_bootstrap_thetas = []\n",
    "\n",
    "for _ in range(B):\n",
    "    parametric_sample = np.random.pareto(theta_mle - 1, n) + 1\n",
    "    parametric_theta = 1 + n / np.sum(np.log(parametric_sample))\n",
    "    parametric_bootstrap_thetas.append(parametric_theta)\n",
    "\n",
    "parametric_ci_theta = np.percentile(parametric_bootstrap_thetas, [2.5, 97.5])\n",
    "length_parametric = parametric_ci_theta[1] - parametric_ci_theta[0]\n",
    "\n",
    "print(f\"Параметрический бутстрап(для 0,95): {parametric_ci_theta}\")\n",
    "print(\"Длина: \", length_parametric)"
   ]
  },
  {
   "cell_type": "code",
   "execution_count": 5,
   "metadata": {},
   "outputs": [
    {
     "name": "stdout",
     "output_type": "stream",
     "text": [
      "Непараметрический бутстрап(для 0,95): [1.90966198 2.33849881]\n",
      "Длина:  0.4110667835179487\n"
     ]
    }
   ],
   "source": [
    "# Непараметрический бутстрап\n",
    "\n",
    "nonparametric_bootstrap_thetas = []\n",
    "\n",
    "for _ in range(B):\n",
    "    nonparametric_sample = np.random.choice(sample, n, replace=True)\n",
    "    nonparametric_theta = 1 + n / np.sum(np.log(nonparametric_sample))\n",
    "    nonparametric_bootstrap_thetas.append(nonparametric_theta)\n",
    "\n",
    "nonparametric_ci_theta = np.percentile(nonparametric_bootstrap_thetas, [2.5, 97.5])\n",
    "length_nonparametric = parametric_ci_theta[1] - parametric_ci_theta[0]\n",
    "\n",
    "print(f\"Непараметрический бутстрап(для 0,95): {nonparametric_ci_theta}\")\n",
    "print(\"Длина: \", length_nonparametric)"
   ]
  },
  {
   "cell_type": "code",
   "execution_count": 6,
   "metadata": {},
   "outputs": [
    {
     "ename": "NameError",
     "evalue": "name 'length_exact' is not defined",
     "output_type": "error",
     "traceback": [
      "\u001b[31m---------------------------------------------------------------------------\u001b[39m",
      "\u001b[31mNameError\u001b[39m                                 Traceback (most recent call last)",
      "\u001b[36mCell\u001b[39m\u001b[36m \u001b[39m\u001b[32mIn[6]\u001b[39m\u001b[32m, line 4\u001b[39m\n\u001b[32m      1\u001b[39m \u001b[38;5;66;03m#  f)\u001b[39;00m\n\u001b[32m      2\u001b[39m \u001b[38;5;28;01mimport\u001b[39;00m\u001b[38;5;250m \u001b[39m\u001b[34;01mpandas\u001b[39;00m\u001b[38;5;250m \u001b[39m\u001b[38;5;28;01mas\u001b[39;00m\u001b[38;5;250m \u001b[39m\u001b[34;01mpd\u001b[39;00m\n\u001b[32m----> \u001b[39m\u001b[32m4\u001b[39m numbers = [length_parametric, \u001b[43mlength_exact\u001b[49m, length_approx]\n\u001b[32m      5\u001b[39m numbers.sort()\n\u001b[32m      7\u001b[39m data = {\u001b[33m\"\u001b[39m\u001b[33mТочный\u001b[39m\u001b[33m\"\u001b[39m: length_exact, \u001b[33m\"\u001b[39m\u001b[33mАсимптотический\u001b[39m\u001b[33m\"\u001b[39m: length_approx,\u001b[33m\"\u001b[39m\u001b[33mБутстраповский\u001b[39m\u001b[33m\"\u001b[39m: length_boot}\n",
      "\u001b[31mNameError\u001b[39m: name 'length_exact' is not defined"
     ]
    }
   ],
   "source": [
    "#  f)\n",
    "import pandas as pd\n",
    "\n",
    "data = {\"Параметрический бутстрап\": length_parametric, \"Непараметрический бутстрап\": length_nonparametric,\"Бутстраповский\": length_boot}\n",
    "df = pd.DataFrame(data, index=[\"Длина\"]).T\n",
    "\n",
    "df"
   ]
  }
 ],
 "metadata": {
  "kernelspec": {
   "display_name": "Python 3",
   "language": "python",
   "name": "python3"
  },
  "language_info": {
   "codemirror_mode": {
    "name": "ipython",
    "version": 3
   },
   "file_extension": ".py",
   "mimetype": "text/x-python",
   "name": "python",
   "nbconvert_exporter": "python",
   "pygments_lexer": "ipython3",
   "version": "3.13.2"
  },
  "orig_nbformat": 4
 },
 "nbformat": 4,
 "nbformat_minor": 2
}
