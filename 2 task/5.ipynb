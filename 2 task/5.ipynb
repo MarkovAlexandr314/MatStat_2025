{
 "cells": [
  {
   "cell_type": "code",
   "execution_count": 1,
   "metadata": {},
   "outputs": [],
   "source": [
    "import numpy as np\n"
   ]
  },
  {
   "cell_type": "code",
   "execution_count": 2,
   "metadata": {},
   "outputs": [],
   "source": [
    "np.random.seed(0)\n",
    "#  f)\n",
    "n = 100\n",
    "theta = 1\n",
    "sample = np.random.uniform(theta, theta * 2, n)\n",
    "\n",
    "probability = 0.95\n",
    "t1 = (1 - probability) / 2\n",
    "t2 = (1 + probability) / 2\n",
    "\n",
    "x_max = np.max(sample)\n"
   ]
  },
  {
   "cell_type": "code",
   "execution_count": 3,
   "metadata": {},
   "outputs": [
    {
     "name": "stdout",
     "output_type": "stream",
     "text": [
      "Точный доверительный интервал(для 0,95): (0.9943, 1.0125)\n",
      "Длина точного интервала:  0.0182\n"
     ]
    }
   ],
   "source": [
    "#  Точный\n",
    "h1 = np.round(x_max / (1 + (t2) ** (1 / n)), 4)\n",
    "h2 = np.round(x_max / (1 + (t1) ** (1 / n)), 4)\n",
    "confidence_interval = (float(h1), float(h2))\n",
    "length_exact = np.round(h2 - h1, 4)\n",
    "\n",
    "\n",
    "print(f\"Точный доверительный интервал(для 0,95): {confidence_interval}\")\n",
    "print(\"Длина точного интервала: \", length_exact)"
   ]
  },
  {
   "cell_type": "code",
   "execution_count": 4,
   "metadata": {},
   "outputs": [
    {
     "name": "stdout",
     "output_type": "stream",
     "text": [
      "Асимптотический доверительный интервал: (0.9442, 1.0195)\n",
      "Длина асимптотический доверительный интервала:  0.0753\n"
     ]
    }
   ],
   "source": [
    "#  Асимптотический\n",
    "theta_1 = 2 * np.mean(sample) / 3\n",
    "\n",
    "s = np.sqrt((np.sum([(x - np.mean(sample)) ** 2 for x in sample]))/(n-1))\n",
    "\n",
    "h1 = theta_1 - 2 * s * 1.96 * np.sqrt(n - 1)/(3 * n)\n",
    "h2 = theta_1 + 2 * s * 1.96 * np.sqrt(n - 1)/(3 * n)\n",
    "length_approx = h2 - h1\n",
    "\n",
    "print(f\"Асимптотический доверительный интервал: ({np.round(h1, 4)}, {np.round(h2, 4)})\")\n",
    "print(\"Длина асимптотический доверительный интервала: \", np.round(length_approx, 4))"
   ]
  },
  {
   "cell_type": "code",
   "execution_count": 5,
   "metadata": {},
   "outputs": [
    {
     "name": "stdout",
     "output_type": "stream",
     "text": [
      "Бутстраповский доверительный интервал(0.9931, 0.9991)\n",
      "Длина:  0.006\n"
     ]
    }
   ],
   "source": [
    "# g) Бутстрап\n",
    "B = 100000  # Число повторений\n",
    "bootstrap_samples = np.random.choice(sample, (B, n), replace=True)\n",
    "\n",
    "bootstrap_estimates = np.max(bootstrap_samples, axis=1) * ((n + 1) / (2 * n + 1))\n",
    "\n",
    "h1 = np.round(np.percentile(bootstrap_estimates, 2.5), 4)\n",
    "h2 = np.round(np.percentile(bootstrap_estimates, 97.5), 4)\n",
    "\n",
    "length_boot = np.round(h2 - h1, 4)\n",
    "\n",
    "print(f'Бутстраповский доверительный интервал({h1}, {h2})')\n",
    "print(\"Длина: \", length_boot)"
   ]
  },
  {
   "cell_type": "code",
   "execution_count": 6,
   "metadata": {},
   "outputs": [
    {
     "data": {
      "text/html": [
       "<div>\n",
       "<style scoped>\n",
       "    .dataframe tbody tr th:only-of-type {\n",
       "        vertical-align: middle;\n",
       "    }\n",
       "\n",
       "    .dataframe tbody tr th {\n",
       "        vertical-align: top;\n",
       "    }\n",
       "\n",
       "    .dataframe thead th {\n",
       "        text-align: right;\n",
       "    }\n",
       "</style>\n",
       "<table border=\"1\" class=\"dataframe\">\n",
       "  <thead>\n",
       "    <tr style=\"text-align: right;\">\n",
       "      <th></th>\n",
       "      <th>Длина</th>\n",
       "    </tr>\n",
       "  </thead>\n",
       "  <tbody>\n",
       "    <tr>\n",
       "      <th>Точный</th>\n",
       "      <td>0.018200</td>\n",
       "    </tr>\n",
       "    <tr>\n",
       "      <th>Асимптотический</th>\n",
       "      <td>0.075343</td>\n",
       "    </tr>\n",
       "    <tr>\n",
       "      <th>Бутстраповский</th>\n",
       "      <td>0.006000</td>\n",
       "    </tr>\n",
       "  </tbody>\n",
       "</table>\n",
       "</div>"
      ],
      "text/plain": [
       "                    Длина\n",
       "Точный           0.018200\n",
       "Асимптотический  0.075343\n",
       "Бутстраповский   0.006000"
      ]
     },
     "execution_count": 6,
     "metadata": {},
     "output_type": "execute_result"
    }
   ],
   "source": [
    "#  h)\n",
    "import pandas as pd\n",
    "\n",
    "data = {\"Точный\": length_exact, \"Асимптотический\": length_approx,\"Бутстраповский\": length_boot}\n",
    "df = pd.DataFrame(data, index=[\"Длина\"]).T\n",
    "\n",
    "df"
   ]
  }
 ],
 "metadata": {
  "kernelspec": {
   "display_name": "Python 3",
   "language": "python",
   "name": "python3"
  },
  "language_info": {
   "codemirror_mode": {
    "name": "ipython",
    "version": 3
   },
   "file_extension": ".py",
   "mimetype": "text/x-python",
   "name": "python",
   "nbconvert_exporter": "python",
   "pygments_lexer": "ipython3",
   "version": "3.13.2"
  },
  "orig_nbformat": 4
 },
 "nbformat": 4,
 "nbformat_minor": 2
}
